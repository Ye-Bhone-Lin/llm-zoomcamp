{
 "cells": [
  {
   "cell_type": "code",
   "execution_count": 1,
   "id": "b46c7412",
   "metadata": {},
   "outputs": [],
   "source": [
    "import minsearch"
   ]
  },
  {
   "cell_type": "code",
   "execution_count": 23,
   "id": "a0e5c88c",
   "metadata": {},
   "outputs": [],
   "source": [
    "import json\n",
    "documents = []\n",
    "\n",
    "with open('documents.json', 'rt') as f_in:\n",
    "    docs_raw = json.load(f_in)\n",
    "for course_dict in docs_raw:\n",
    "    for doc in course_dict['documents']:\n",
    "        doc['course'] = course_dict['course']\n",
    "        documents.append(doc)"
   ]
  },
  {
   "cell_type": "code",
   "execution_count": 24,
   "id": "b0893872",
   "metadata": {},
   "outputs": [
    {
     "data": {
      "text/plain": [
       "<minsearch.Index at 0x2c40651a810>"
      ]
     },
     "execution_count": 24,
     "metadata": {},
     "output_type": "execute_result"
    }
   ],
   "source": [
    "index = minsearch.Index(\n",
    "    text_fields=[\"question\", \"text\", \"section\"],\n",
    "    keyword_fields=[\"course\"]\n",
    ")\n",
    "index"
   ]
  },
  {
   "cell_type": "code",
   "execution_count": 25,
   "id": "40f2e97e",
   "metadata": {},
   "outputs": [],
   "source": [
    "q = 'the course has already started, can I still enroll?'\n"
   ]
  },
  {
   "cell_type": "code",
   "execution_count": 26,
   "id": "1d860622",
   "metadata": {},
   "outputs": [
    {
     "data": {
      "text/plain": [
       "<minsearch.Index at 0x2c40651a810>"
      ]
     },
     "execution_count": 26,
     "metadata": {},
     "output_type": "execute_result"
    }
   ],
   "source": [
    "index.fit(documents)\n"
   ]
  },
  {
   "cell_type": "code",
   "execution_count": 29,
   "id": "962ac014",
   "metadata": {},
   "outputs": [
    {
     "data": {
      "text/plain": [
       "[{'text': 'Yes, you can. You won’t be able to submit some of the homeworks, but you can still take part in the course.\\nIn order to get a certificate, you need to submit 2 out of 3 course projects and review 3 peers’ Projects by the deadline. It means that if you join the course at the end of November and manage to work on two projects, you will still be eligible for a certificate.',\n",
       "  'section': 'General course-related questions',\n",
       "  'question': 'The course has already started. Can I still join it?',\n",
       "  'course': 'machine-learning-zoomcamp'},\n",
       " {'text': \"Yes, even if you don't register, you're still eligible to submit the homeworks.\\nBe aware, however, that there will be deadlines for turning in the final projects. So don't leave everything for the last minute.\",\n",
       "  'section': 'General course-related questions',\n",
       "  'question': 'Course - Can I still join the course after the start date?',\n",
       "  'course': 'data-engineering-zoomcamp'},\n",
       " {'text': 'Yes, we will keep all the materials after the course finishes, so you can follow the course at your own pace after it finishes.\\nYou can also continue looking at the homeworks and continue preparing for the next cohort. I guess you can also start working on your final capstone project.',\n",
       "  'section': 'General course-related questions',\n",
       "  'question': 'Course - Can I follow the course after it finishes?',\n",
       "  'course': 'data-engineering-zoomcamp'},\n",
       " {'text': \"The purpose of this document is to capture frequently asked technical questions\\nThe exact day and hour of the course will be 15th Jan 2024 at 17h00. The course will start with the first  “Office Hours'' live.1\\nSubscribe to course public Google Calendar (it works from Desktop only).\\nRegister before the course starts using this link.\\nJoin the course Telegram channel with announcements.\\nDon’t forget to register in DataTalks.Club's Slack and join the channel.\",\n",
       "  'section': 'General course-related questions',\n",
       "  'question': 'Course - When will the course start?',\n",
       "  'course': 'data-engineering-zoomcamp'},\n",
       " {'text': 'You can start by installing and setting up all the dependencies and requirements:\\nGoogle cloud account\\nGoogle Cloud SDK\\nPython 3 (installed with Anaconda)\\nTerraform\\nGit\\nLook over the prerequisites and syllabus to see if you are comfortable with these subjects.',\n",
       "  'section': 'General course-related questions',\n",
       "  'question': 'Course - What can I do before the course starts?',\n",
       "  'course': 'data-engineering-zoomcamp'}]"
      ]
     },
     "execution_count": 29,
     "metadata": {},
     "output_type": "execute_result"
    }
   ],
   "source": [
    "boost = {\"question\":3.0, \"section\": 0.5}\n",
    "\n",
    "result = index.search(\n",
    "    query = q,\n",
    "    boost_dict=boost,\n",
    "    num_results=5\n",
    ")\n",
    "result"
   ]
  },
  {
   "cell_type": "code",
   "execution_count": 28,
   "id": "eb45a1b9",
   "metadata": {},
   "outputs": [
    {
     "name": "stdout",
     "output_type": "stream",
     "text": [
      "The answer depends on the specific course and institution. Here are some general possibilities:\n",
      "\n",
      "1. **Late enrollment**: Some courses or programs may allow late enrollment, even after the course has started. This might be possible if:\n",
      "\t* The course is still in its early stages (e.g., first week or two).\n",
      "\t* The instructor or institution allows late enrollment.\n",
      "\t* You're willing to catch up on any material you've missed.\n",
      "2. **Waitlist or add/drop period**: Some institutions have a waitlist or add/drop period, which allows students to join or leave courses within a certain timeframe (usually the first week or two of the course). If you're interested, you can try to add yourself to the waitlist or inquire about the add/drop process.\n",
      "3. **Self-paced online courses**: If you're interested in an online course, some platforms (e.g., Coursera, edX, Udemy) offer self-paced courses, which you can start and complete at any time. You might still be able to enroll, even if the course has already started.\n",
      "4. **Approval from the instructor or institution**: In some cases, you might need to get approval from the instructor or institution to enroll in a course that's already started. This could be due to limited seats, course prerequisites, or other requirements.\n",
      "\n",
      "To determine if you can still enroll, I recommend:\n",
      "\n",
      "* Checking the course website, syllabus, or contact information for details on late enrollment or add/drop policies.\n",
      "* Reaching out to the instructor or department directly to inquire about availability and requirements.\n",
      "* Reviewing the institution's policies on late enrollment, waitlists, or add/drop periods.\n",
      "\n",
      "Don't hesitate to ask – it's always worth inquiring about potential opportunities to join a course!"
     ]
    }
   ],
   "source": [
    "from groq import Groq\n",
    "from dotenv import load_dotenv \n",
    "\n",
    "load_dotenv()\n",
    "\n",
    "client = Groq()\n",
    "completion = client.chat.completions.create(\n",
    "    model=\"meta-llama/llama-4-scout-17b-16e-instruct\",\n",
    "    messages=[\n",
    "      {\n",
    "        \"role\": \"user\",\n",
    "        \"content\": q\n",
    "      }\n",
    "    ],\n",
    "    temperature=1,\n",
    "    top_p=1,\n",
    "    stream=True,\n",
    "    stop=None,\n",
    ")\n",
    "\n",
    "for chunk in completion:\n",
    "    print(chunk.choices[0].delta.content or \"\", end=\"\")\n"
   ]
  },
  {
   "cell_type": "code",
   "execution_count": 14,
   "id": "ccc650df",
   "metadata": {},
   "outputs": [
    {
     "data": {
      "text/plain": [
       "'You are an assistant and answer based on query. Always polite.\\n\\nQUESTION: {question}\\n\\nCONTEXT: {context}'"
      ]
     },
     "execution_count": 14,
     "metadata": {},
     "output_type": "execute_result"
    }
   ],
   "source": [
    "prompt_template = \"\"\"\n",
    "You are an assistant and answer based on query. Always polite.\n",
    "\n",
    "QUESTION: {question}\n",
    "\n",
    "CONTEXT: {context}\n",
    "\"\"\".strip()\n",
    "\n",
    "prompt_template"
   ]
  },
  {
   "cell_type": "code",
   "execution_count": 34,
   "id": "2d5d3940",
   "metadata": {},
   "outputs": [
    {
     "name": "stdout",
     "output_type": "stream",
     "text": [
      "You are an assistant and answer based on query. Always polite.\n",
      "\n",
      "QUESTION: the course has already started, can I still enroll?\n",
      "\n",
      "CONTEXT: section: Module 6: Best practices\n",
      "question: How to destroy infrastructure created via GitHub Actions\n",
      "answer: Problem description\n",
      "Infrastructure created in AWS with CD-Deploy Action needs to be destroyed\n",
      "Solution description\n",
      "From local:\n",
      "terraform init -backend-config=\"key=mlops-zoomcamp-prod.tfstate\" --reconfigure\n",
      "terraform destroy --var-file vars/prod.tfvars\n",
      "Added by Erick Calderin\n",
      "You are an assistant and answer based on query. Always polite.\n",
      "\n",
      "QUESTION: the course has already started, can I still enroll?\n",
      "\n",
      "CONTEXT: section: Module 6: Best practices\n",
      "question: How to destroy infrastructure created via GitHub Actions\n",
      "answer: Problem description\n",
      "Infrastructure created in AWS with CD-Deploy Action needs to be destroyed\n",
      "Solution description\n",
      "From local:\n",
      "terraform init -backend-config=\"key=mlops-zoomcamp-prod.tfstate\" --reconfigure\n",
      "terraform destroy --var-file vars/prod.tfvars\n",
      "Added by Erick Calderin\n",
      "\n",
      "section: Module 6: Best practices\n",
      "question: How to destroy infrastructure created via GitHub Actions\n",
      "answer: Problem description\n",
      "Infrastructure created in AWS with CD-Deploy Action needs to be destroyed\n",
      "Solution description\n",
      "From local:\n",
      "terraform init -backend-config=\"key=mlops-zoomcamp-prod.tfstate\" --reconfigure\n",
      "terraform destroy --var-file vars/prod.tfvars\n",
      "Added by Erick Calderin\n",
      "You are an assistant and answer based on query. Always polite.\n",
      "\n",
      "QUESTION: the course has already started, can I still enroll?\n",
      "\n",
      "CONTEXT: section: Module 6: Best practices\n",
      "question: How to destroy infrastructure created via GitHub Actions\n",
      "answer: Problem description\n",
      "Infrastructure created in AWS with CD-Deploy Action needs to be destroyed\n",
      "Solution description\n",
      "From local:\n",
      "terraform init -backend-config=\"key=mlops-zoomcamp-prod.tfstate\" --reconfigure\n",
      "terraform destroy --var-file vars/prod.tfvars\n",
      "Added by Erick Calderin\n",
      "\n",
      "section: Module 6: Best practices\n",
      "question: How to destroy infrastructure created via GitHub Actions\n",
      "answer: Problem description\n",
      "Infrastructure created in AWS with CD-Deploy Action needs to be destroyed\n",
      "Solution description\n",
      "From local:\n",
      "terraform init -backend-config=\"key=mlops-zoomcamp-prod.tfstate\" --reconfigure\n",
      "terraform destroy --var-file vars/prod.tfvars\n",
      "Added by Erick Calderin\n",
      "\n",
      "section: Module 6: Best practices\n",
      "question: How to destroy infrastructure created via GitHub Actions\n",
      "answer: Problem description\n",
      "Infrastructure created in AWS with CD-Deploy Action needs to be destroyed\n",
      "Solution description\n",
      "From local:\n",
      "terraform init -backend-config=\"key=mlops-zoomcamp-prod.tfstate\" --reconfigure\n",
      "terraform destroy --var-file vars/prod.tfvars\n",
      "Added by Erick Calderin\n",
      "You are an assistant and answer based on query. Always polite.\n",
      "\n",
      "QUESTION: the course has already started, can I still enroll?\n",
      "\n",
      "CONTEXT: section: Module 6: Best practices\n",
      "question: How to destroy infrastructure created via GitHub Actions\n",
      "answer: Problem description\n",
      "Infrastructure created in AWS with CD-Deploy Action needs to be destroyed\n",
      "Solution description\n",
      "From local:\n",
      "terraform init -backend-config=\"key=mlops-zoomcamp-prod.tfstate\" --reconfigure\n",
      "terraform destroy --var-file vars/prod.tfvars\n",
      "Added by Erick Calderin\n",
      "\n",
      "section: Module 6: Best practices\n",
      "question: How to destroy infrastructure created via GitHub Actions\n",
      "answer: Problem description\n",
      "Infrastructure created in AWS with CD-Deploy Action needs to be destroyed\n",
      "Solution description\n",
      "From local:\n",
      "terraform init -backend-config=\"key=mlops-zoomcamp-prod.tfstate\" --reconfigure\n",
      "terraform destroy --var-file vars/prod.tfvars\n",
      "Added by Erick Calderin\n",
      "\n",
      "section: Module 6: Best practices\n",
      "question: How to destroy infrastructure created via GitHub Actions\n",
      "answer: Problem description\n",
      "Infrastructure created in AWS with CD-Deploy Action needs to be destroyed\n",
      "Solution description\n",
      "From local:\n",
      "terraform init -backend-config=\"key=mlops-zoomcamp-prod.tfstate\" --reconfigure\n",
      "terraform destroy --var-file vars/prod.tfvars\n",
      "Added by Erick Calderin\n",
      "\n",
      "section: Module 6: Best practices\n",
      "question: How to destroy infrastructure created via GitHub Actions\n",
      "answer: Problem description\n",
      "Infrastructure created in AWS with CD-Deploy Action needs to be destroyed\n",
      "Solution description\n",
      "From local:\n",
      "terraform init -backend-config=\"key=mlops-zoomcamp-prod.tfstate\" --reconfigure\n",
      "terraform destroy --var-file vars/prod.tfvars\n",
      "Added by Erick Calderin\n",
      "You are an assistant and answer based on query. Always polite.\n",
      "\n",
      "QUESTION: the course has already started, can I still enroll?\n",
      "\n",
      "CONTEXT: section: Module 6: Best practices\n",
      "question: How to destroy infrastructure created via GitHub Actions\n",
      "answer: Problem description\n",
      "Infrastructure created in AWS with CD-Deploy Action needs to be destroyed\n",
      "Solution description\n",
      "From local:\n",
      "terraform init -backend-config=\"key=mlops-zoomcamp-prod.tfstate\" --reconfigure\n",
      "terraform destroy --var-file vars/prod.tfvars\n",
      "Added by Erick Calderin\n",
      "\n",
      "section: Module 6: Best practices\n",
      "question: How to destroy infrastructure created via GitHub Actions\n",
      "answer: Problem description\n",
      "Infrastructure created in AWS with CD-Deploy Action needs to be destroyed\n",
      "Solution description\n",
      "From local:\n",
      "terraform init -backend-config=\"key=mlops-zoomcamp-prod.tfstate\" --reconfigure\n",
      "terraform destroy --var-file vars/prod.tfvars\n",
      "Added by Erick Calderin\n",
      "\n",
      "section: Module 6: Best practices\n",
      "question: How to destroy infrastructure created via GitHub Actions\n",
      "answer: Problem description\n",
      "Infrastructure created in AWS with CD-Deploy Action needs to be destroyed\n",
      "Solution description\n",
      "From local:\n",
      "terraform init -backend-config=\"key=mlops-zoomcamp-prod.tfstate\" --reconfigure\n",
      "terraform destroy --var-file vars/prod.tfvars\n",
      "Added by Erick Calderin\n",
      "\n",
      "section: Module 6: Best practices\n",
      "question: How to destroy infrastructure created via GitHub Actions\n",
      "answer: Problem description\n",
      "Infrastructure created in AWS with CD-Deploy Action needs to be destroyed\n",
      "Solution description\n",
      "From local:\n",
      "terraform init -backend-config=\"key=mlops-zoomcamp-prod.tfstate\" --reconfigure\n",
      "terraform destroy --var-file vars/prod.tfvars\n",
      "Added by Erick Calderin\n",
      "\n",
      "section: Module 6: Best practices\n",
      "question: How to destroy infrastructure created via GitHub Actions\n",
      "answer: Problem description\n",
      "Infrastructure created in AWS with CD-Deploy Action needs to be destroyed\n",
      "Solution description\n",
      "From local:\n",
      "terraform init -backend-config=\"key=mlops-zoomcamp-prod.tfstate\" --reconfigure\n",
      "terraform destroy --var-file vars/prod.tfvars\n",
      "Added by Erick Calderin\n"
     ]
    }
   ],
   "source": [
    "context = \"\"\n",
    "\n",
    "for docs in result:\n",
    "   # print(docs)\n",
    "    context = context + f\"section: {doc['section']}\\nquestion: {doc['question']}\\nanswer: {doc['text']}\\n\\n\"\n",
    "    prompt = prompt_template.format(question=q, context=context).strip()\n",
    "    print(prompt)"
   ]
  },
  {
   "cell_type": "code",
   "execution_count": 35,
   "id": "51a903b5",
   "metadata": {},
   "outputs": [
    {
     "name": "stdout",
     "output_type": "stream",
     "text": [
      "I'm happy to help you with your question.\n",
      "\n",
      "Regarding your query about enrolling in the course despite it having already started, I would recommend checking with the course administrators or support team directly. They will be able to provide you with the most up-to-date and accurate information on course enrollment and any possible alternatives.\n",
      "\n",
      "If you have any questions related to the course material, such as the one you've provided about destroying infrastructure created via GitHub Actions, I'll do my best to assist you. \n",
      "\n",
      "Would you like to know more about how to reach out to the course administrators or is there anything else I can help you with?"
     ]
    }
   ],
   "source": [
    "from groq import Groq\n",
    "from dotenv import load_dotenv \n",
    "\n",
    "load_dotenv()\n",
    "\n",
    "client = Groq()\n",
    "completion = client.chat.completions.create(\n",
    "    model=\"meta-llama/llama-4-scout-17b-16e-instruct\",\n",
    "    messages=[\n",
    "      {\n",
    "        \"role\": \"user\",\n",
    "        \"content\": prompt\n",
    "      }\n",
    "    ],\n",
    "    temperature=1,\n",
    "    top_p=1,\n",
    "    stream=True,\n",
    "    stop=None,\n",
    ")\n",
    "\n",
    "for chunk in completion:\n",
    "    print(chunk.choices[0].delta.content or \"\", end=\"\")\n"
   ]
  },
  {
   "cell_type": "code",
   "execution_count": null,
   "id": "b82b3864",
   "metadata": {},
   "outputs": [],
   "source": []
  }
 ],
 "metadata": {
  "kernelspec": {
   "display_name": "base",
   "language": "python",
   "name": "python3"
  },
  "language_info": {
   "codemirror_mode": {
    "name": "ipython",
    "version": 3
   },
   "file_extension": ".py",
   "mimetype": "text/x-python",
   "name": "python",
   "nbconvert_exporter": "python",
   "pygments_lexer": "ipython3",
   "version": "3.12.7"
  }
 },
 "nbformat": 4,
 "nbformat_minor": 5
}
